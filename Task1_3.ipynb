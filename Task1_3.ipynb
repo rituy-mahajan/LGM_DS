{
  "nbformat": 4,
  "nbformat_minor": 0,
  "metadata": {
    "colab": {
      "name": "Task1.3.ipynb",
      "provenance": [],
      "collapsed_sections": [],
      "authorship_tag": "ABX9TyMDpqpsXUsvT1qPTKQXqEll",
      "include_colab_link": true
    },
    "kernelspec": {
      "name": "python3",
      "display_name": "Python 3"
    },
    "language_info": {
      "name": "python"
    }
  },
  "cells": [
    {
      "cell_type": "markdown",
      "metadata": {
        "id": "view-in-github",
        "colab_type": "text"
      },
      "source": [
        "<a href=\"https://colab.research.google.com/github/rituy-mahajan/LGM_DS/blob/main/Task1_3.ipynb\" target=\"_parent\"><img src=\"https://colab.research.google.com/assets/colab-badge.svg\" alt=\"Open In Colab\"/></a>"
      ]
    },
    {
      "cell_type": "code",
      "execution_count": null,
      "metadata": {
        "id": "DlZODom2EELA"
      },
      "outputs": [],
      "source": [
        "import numpy as np\n",
        "import pandas as pd \n",
        "import seaborn as sns \n",
        "import matplotlib.pyplot as plt\n",
        "import missingno as msno\n",
        "import gc\n",
        "import lightgbm as lgb\n",
        "from xgboost import XGBClassifier"
      ]
    },
    {
      "cell_type": "code",
      "source": [
        "train = pd.read_csv('/content/train.csv.7z')\n",
        "test = pd.read_csv('/content/test.csv.7z')\n",
        "songs = pd.read_csv('/songs.csv')\n",
        "members = pd.read_csv('/content/members.csv.7z')\n",
        "song_extra_info = pd.read_csv('/content/song_extra_info.csv.7z')"
      ],
      "metadata": {
        "id": "TmJCehB2GzR_"
      },
      "execution_count": null,
      "outputs": []
    },
    {
      "cell_type": "code",
      "source": [
        "print('Shape of train file is : ', train.shape)\n",
        "print('Shape of test file is : ', test.shape)\n",
        "print('Shape of songs file is : ', songs.shape)\n",
        "print('Shape of members file is : ', members.shape)\n",
        "print('Shape of songs_extra_info file is : ', song_extra_info.shape)\n",
        "Shape of train file is :  (7377418, 6)\n",
        "Shape of test file is :  (2556790, 6)\n",
        "Shape of songs file is :  (2296320, 7)\n",
        "Shape of members file is :  (34403, 7)\n",
        "Shape of songs_extra_info file is :  (2295971, 3)\n",
        "print('Features of train : ', train.columns)\n",
        "print('Features of test :', test.columns)\n",
        "print('Features of songs : ', songs.columns)\n",
        "print('Features of members : ', members.columns)\n",
        "print('Features of songs_extra_info : ', song_extra_info.columns)"
      ],
      "metadata": {
        "id": "W-xVxpLhFcNN"
      },
      "execution_count": null,
      "outputs": []
    },
    {
      "cell_type": "code",
      "source": [
        "train.info()"
      ],
      "metadata": {
        "id": "qFoRvs6aFf0N"
      },
      "execution_count": null,
      "outputs": []
    },
    {
      "cell_type": "code",
      "source": [
        "def count_plot(data, x, hue, type):\n",
        "  '''Function to plot histograms with respect to argument type (category/target)'''\n",
        "  plt.figure(figsize=(18,15))\n",
        "  sns.set(font_scale=2)\n",
        "  sns.countplot(x=x, hue=hue, data=data)\n",
        "  plt.xlabel(x,fontsize=30)\n",
        "  plt.ylabel('count',fontsize=30)\n",
        "  plt.xticks(rotation='90')\n",
        "  plt.title('Count plot for {0} in {1} data'.format(x, type),fontsize=30)\n",
        "  plt.tight_layout()"
      ],
      "metadata": {
        "id": "SR7A2jJSFivI"
      },
      "execution_count": null,
      "outputs": []
    },
    {
      "cell_type": "code",
      "source": [
        "def count_plot_function(data, x):\n",
        "  '''Function to plot histograms for categories'''\n",
        "  plt.figure(figsize=(18,15))\n",
        "  sns.set(font_scale=2)\n",
        "  sns.countplot(x=x, data=data)\n",
        "  plt.xlabel(x,fontsize=30)\n",
        "  plt.ylabel('count',fontsize=30)\n",
        "  plt.xticks(rotation='90')\n",
        "  plt.title('Count plot',fontsize=30)\n",
        "  plt.tight_layout()"
      ],
      "metadata": {
        "id": "FN81fSRwFlDL"
      },
      "execution_count": null,
      "outputs": []
    },
    {
      "cell_type": "code",
      "source": [
        "count_plot(train, 'target', 'target', 'train')"
      ],
      "metadata": {
        "id": "81j8utEjFpAw"
      },
      "execution_count": null,
      "outputs": []
    },
    {
      "cell_type": "code",
      "source": [
        "print('Data for label 1 : {:.4f}%'.format(train['target'].value_counts()[0]/train.shape[0] * 100))\n",
        "print('Data for label 0 : {:.4f}%'.format(train['target'].value_counts()[1]/train.shape[0] * 100))"
      ],
      "metadata": {
        "id": "xJ0Jt6hHFsRn"
      },
      "execution_count": null,
      "outputs": []
    },
    {
      "cell_type": "code",
      "source": [
        "count_plot(train, 'source_type', 'target', 'train')"
      ],
      "metadata": {
        "id": "cHcIekX4Fu78"
      },
      "execution_count": null,
      "outputs": []
    },
    {
      "cell_type": "code",
      "source": [
        "count_plot(train, 'source_type', 'source_type', 'train')"
      ],
      "metadata": {
        "id": "oQP0X5XkFyb9"
      },
      "execution_count": null,
      "outputs": []
    },
    {
      "cell_type": "code",
      "source": [
        "count_plot(train, 'source_system_tab', 'target', 'train')"
      ],
      "metadata": {
        "id": "mJSpYY6bF0QF"
      },
      "execution_count": null,
      "outputs": []
    },
    {
      "cell_type": "code",
      "source": [
        "count_plot(train, 'source_system_tab', 'source_system_tab', 'train')"
      ],
      "metadata": {
        "id": "c8RPz9SCF0y9"
      },
      "execution_count": null,
      "outputs": []
    },
    {
      "cell_type": "code",
      "source": [
        "count_plot(train, 'source_screen_name', 'target', 'train')"
      ],
      "metadata": {
        "id": "3Pt6XCthF3cE"
      },
      "execution_count": null,
      "outputs": []
    },
    {
      "cell_type": "code",
      "source": [
        "count_plot_function(train, 'source_screen_name')"
      ],
      "metadata": {
        "id": "hX4TMKOYF5iL"
      },
      "execution_count": null,
      "outputs": []
    },
    {
      "cell_type": "code",
      "source": [
        "members.info()"
      ],
      "metadata": {
        "id": "yG8XEKS9F71D"
      },
      "execution_count": null,
      "outputs": []
    },
    {
      "cell_type": "code",
      "source": [
        "def count_plot_function(data, x):\n",
        "  '''Function to plot histograms for categories'''\n",
        "  plt.figure(figsize=(18,15))\n",
        "  sns.set(font_scale=2)\n",
        "  sns.countplot(x=x, data=data)\n",
        "  plt.xlabel(x,fontsize=30)\n",
        "  plt.ylabel('count',fontsize=30)\n",
        "  plt.xticks(rotation='90')\n",
        "  plt.title('Count plot',fontsize=30)\n",
        "  plt.tight_layout()"
      ],
      "metadata": {
        "id": "jvUnydLtF-Ec"
      },
      "execution_count": null,
      "outputs": []
    },
    {
      "cell_type": "code",
      "source": [
        "count_plot_function(members, 'gender')"
      ],
      "metadata": {
        "id": "G_ZABPftGAag"
      },
      "execution_count": null,
      "outputs": []
    },
    {
      "cell_type": "code",
      "source": [
        "count_plot_function(members, 'registered_via')"
      ],
      "metadata": {
        "id": "s3sKsOLAGCBF"
      },
      "execution_count": null,
      "outputs": []
    },
    {
      "cell_type": "code",
      "source": [
        "count_plot_function(members, 'city')"
      ],
      "metadata": {
        "id": "wjoCbGvRGEVk"
      },
      "execution_count": null,
      "outputs": []
    },
    {
      "cell_type": "code",
      "source": [
        "plt.figure(figsize = (20, 20)) \n",
        "sns.distplot(members.registration_init_time)\n",
        "sns.set(font_scale=2)\n",
        "plt.title('PDF for registration')"
      ],
      "metadata": {
        "id": "RIC2PPgeGGVW"
      },
      "execution_count": null,
      "outputs": []
    },
    {
      "cell_type": "code",
      "source": [
        "plt.figure(figsize = (20, 20)) \n",
        "sns.distplot(members['expiration_date'])\n",
        "sns.set(font_scale=2)\n",
        "plt.title('PDF for registration')"
      ],
      "metadata": {
        "id": "AtX7xgXQGJFT"
      },
      "execution_count": null,
      "outputs": []
    },
    {
      "cell_type": "code",
      "source": [
        "members.bd.unique()"
      ],
      "metadata": {
        "id": "h_fTXuFBGMBb"
      },
      "execution_count": null,
      "outputs": []
    },
    {
      "cell_type": "code",
      "source": [
        "def plot_pdf_cdf(x, flag):\n",
        "  '''Function to plot pdf and cdf'''\n",
        "  plt.figure(figsize = (15, 10)) \n",
        "  kwargs = {'cumulative': True}\n",
        "  if flag:\n",
        "    sns.distplot(x, hist_kws=kwargs, kde_kws=kwargs)\n",
        "    plt.title('CDF for age')\n",
        "  else:\n",
        "    sns.distplot(x)\n",
        "    plt.title('PDF for age')\n",
        "  sns.set(font_scale=2)"
      ],
      "metadata": {
        "id": "mt-j5wqBGOjj"
      },
      "execution_count": null,
      "outputs": []
    },
    {
      "cell_type": "code",
      "source": [
        "plot_pdf_cdf(members['bd'], False)"
      ],
      "metadata": {
        "id": "LltBUHNhGSCv"
      },
      "execution_count": null,
      "outputs": []
    },
    {
      "cell_type": "code",
      "source": [
        "\n",
        "plot_pdf_cdf(members['bd'], True)"
      ],
      "metadata": {
        "id": "cu3Renn5GTgp"
      },
      "execution_count": null,
      "outputs": []
    },
    {
      "cell_type": "code",
      "source": [
        "np.percentile(members['bd'].values, 98)"
      ],
      "metadata": {
        "id": "8-wiRUwvGWtI"
      },
      "execution_count": null,
      "outputs": []
    },
    {
      "cell_type": "code",
      "source": [
        "songs_all_info = songs.merge(song_extra_info, on='song_id')"
      ],
      "metadata": {
        "id": "sBuMOduvGZH4"
      },
      "execution_count": null,
      "outputs": []
    },
    {
      "cell_type": "code",
      "source": [
        "def isrc_to_year(isrc):\n",
        "    if type(isrc) == str:\n",
        "        if int(isrc[5:7]) > 17:\n",
        "            return 1900 + int(isrc[5:7])\n",
        "        else:\n",
        "            return 2000 + int(isrc[5:7])\n",
        "    else:\n",
        "        return np.nan\n",
        "\n",
        "songs_all_info['song_year'] = songs_all_info['isrc'].apply(isrc_to_year)"
      ],
      "metadata": {
        "id": "Ok4-cP7yGbc3"
      },
      "execution_count": null,
      "outputs": []
    },
    {
      "cell_type": "code",
      "source": [
        "songs_all_info['language'].unique()"
      ],
      "metadata": {
        "id": "et8j7kKQGeNZ"
      },
      "execution_count": null,
      "outputs": []
    },
    {
      "cell_type": "code",
      "source": [
        "count_plot_function(songs_all_info, 'language')"
      ],
      "metadata": {
        "id": "UoCBiTvTGgBk"
      },
      "execution_count": null,
      "outputs": []
    },
    {
      "cell_type": "code",
      "source": [
        "def check_missing_values(df):\n",
        "  '''Function to check missing values in df'''\n",
        "  for col in df.columns:\n",
        "    nan_count = df[col].isnull().sum()\n",
        "    total = df.shape[0]\n",
        "    percentage = nan_count/total * 100\n",
        "    print(col, 'has {:.2f}% missing values'.format(percentage))"
      ],
      "metadata": {
        "id": "OiK7uFw_Gi21"
      },
      "execution_count": null,
      "outputs": []
    },
    {
      "cell_type": "code",
      "source": [
        "print('Missing values analysis for train data')\n",
        "check_missing_values(train)"
      ],
      "metadata": {
        "id": "oayxK_CBGoXd"
      },
      "execution_count": null,
      "outputs": []
    },
    {
      "cell_type": "code",
      "source": [
        "print('Missing values analysis for songs data')\n",
        "check_missing_values(songs)"
      ],
      "metadata": {
        "id": "mXs-PJBQGoyE"
      },
      "execution_count": null,
      "outputs": []
    },
    {
      "cell_type": "code",
      "source": [
        "print('Missing values analysis for songs_all_info data')\n",
        "check_missing_values(songs_all_info)"
      ],
      "metadata": {
        "id": "EkgS-eOnGsx2"
      },
      "execution_count": null,
      "outputs": []
    },
    {
      "cell_type": "code",
      "source": [
        "train_members = pd.merge(train, members, on='msno', how='left')\n",
        "train_merged = pd.merge(train_members, songs_all_info, on='song_id', how='left')"
      ],
      "metadata": {
        "id": "d8tWlEA6Gu98"
      },
      "execution_count": null,
      "outputs": []
    },
    {
      "cell_type": "code",
      "source": [
        "test_members = pd.merge(test, members, on='msno', how='left')\n",
        "test_merged = pd.merge(test_members, songs_all_info, on='song_id', how='left')"
      ],
      "metadata": {
        "id": "wJM7sbb6GvYr"
      },
      "execution_count": null,
      "outputs": []
    },
    {
      "cell_type": "code",
      "source": [
        "del train_members\n",
        "del test_members\n",
        "check_missing_values(train_merged)"
      ],
      "metadata": {
        "id": "F0Ri6bUZGxkm"
      },
      "execution_count": null,
      "outputs": []
    },
    {
      "cell_type": "code",
      "source": [
        "msno.heatmap(train)"
      ],
      "metadata": {
        "id": "76i77FWeGzwL"
      },
      "execution_count": null,
      "outputs": []
    },
    {
      "cell_type": "code",
      "source": [
        "msno.heatmap(train_merged)"
      ],
      "metadata": {
        "id": "xULjXLKpG1oT"
      },
      "execution_count": null,
      "outputs": []
    },
    {
      "cell_type": "code",
      "source": [
        "msno.dendrogram(train_merged)"
      ],
      "metadata": {
        "id": "g3cFUyqzG38r"
      },
      "execution_count": null,
      "outputs": []
    },
    {
      "cell_type": "code",
      "source": [
        "del train, test, members, songs, song_extra_info\n",
        "import time\n",
        "import numpy as np\n",
        "import pandas as pd\n",
        "import lightgbm as lgb\n",
        "import gc\n",
        "members = pd.read_csv(data_path + 'members.csv')\n",
        "songs = pd.read_csv(data_path + 'songs.csv')\n",
        "songs_extra = pd.read_csv(data_path + 'song_extra_info.csv')\n",
        "train = pd.read_csv(data_path + 'train.csv')\n",
        "test = pd.read_csv(data_path + 'test.csv')"
      ],
      "metadata": {
        "id": "2czKW5_wG7AM"
      },
      "execution_count": null,
      "outputs": []
    },
    {
      "cell_type": "code",
      "source": [
        "tr_index = train.shape[0] * 8 // 10\n",
        "train_data = train.iloc[:tr_index]\n",
        "val_data = train.iloc[tr_index:]\n",
        "print(train_data.shape, val_data.shape, test.shape)"
      ],
      "metadata": {
        "id": "LOpnfkAGHDnJ"
      },
      "execution_count": null,
      "outputs": []
    },
    {
      "cell_type": "code",
      "source": [
        "# merge with members\n",
        "train_members = pd.merge(train_data, members, on='msno', how='left')\n",
        "val_members = pd.merge(val_data, members, on='msno', how='left')\n",
        "test_members = pd.merge(test, members, on='msno', how='left')\n",
        "# merge songs and songs_extra\n",
        "songs_all = pd.merge(songs, songs_extra, on='song_id', how='left')\n",
        "# merge with members\n",
        "train_all = pd.merge(train_members, songs_all, on='song_id', how='left')\n",
        "val_all = pd.merge(val_members, songs_all, on='song_id', how='left')\n",
        "test_all = pd.merge(test_members, songs_all, on='song_id', how='left')\n",
        "del train_members\n",
        "del val_members\n",
        "del test_members\n",
        "del songs_all\n",
        "del train_data\n",
        "del val_data\n",
        "del train, test"
      ],
      "metadata": {
        "id": "bwCbFDxTHLk0"
      },
      "execution_count": null,
      "outputs": []
    },
    {
      "cell_type": "code",
      "source": [
        "def filter_age(x):\n",
        "  # 98th percentile is 47\n",
        "  '''Function to fix age value between 0 to 75'''\n",
        "  if x >= 0 and x <= 75:\n",
        "    return x\n",
        "  else:\n",
        "    return np.nan\n",
        "\n",
        "train_all['bd'] = train_all['bd'].apply(filter_age)\n",
        "val_all['bd'] = val_all['bd'].apply(filter_age)\n",
        "test_all['bd'] = test_all['bd'].apply(filter_age)\n",
        "I have borrowed some ideas for F.E. from the kaggle kernel https://www.kaggle.com/asmitavikas/feature-engineered-0-68310\n",
        "def extract_date_fatures(data):\n",
        "  '''Function to extract features like day, month, year from dates.'''\n",
        "  # convert into date format\n",
        "  data['expiration_date'] = pd.to_datetime(data['expiration_date'], format='%Y%m%d')\n",
        "  data['registration_init_time'] = pd.to_datetime(data['registration_init_time'], format='%Y%m%d')\n",
        "  \n",
        "  # get membership period from registration and expiration dates\n",
        "  data['membership_days'] = data['expiration_date'].subtract(data['registration_init_time']).dt.days.astype(int)\n",
        "\n",
        "  # extract year, month and day from dates\n",
        "  data['registration_year'] = data['registration_init_time'].dt.year\n",
        "  data['registration_month'] = data['registration_init_time'].dt.month\n",
        "  data['registration_day'] = data['registration_init_time'].dt.day\n",
        "\n",
        "  data['expiration_year'] = data['expiration_date'].dt.year\n",
        "  data['expiration_month'] = data['expiration_date'].dt.month\n",
        "  data['expiration_day'] = data['expiration_date'].dt.day\n",
        "\n",
        "  return data\n",
        "\n",
        "train_all = extract_date_fatures(train_all)\n",
        "val_all = extract_date_fatures(val_all)\n",
        "test_all = extract_date_fatures(test_all)"
      ],
      "metadata": {
        "id": "vNLasmC-HSRT"
      },
      "execution_count": null,
      "outputs": []
    },
    {
      "cell_type": "code",
      "source": [
        "train_all.tail(3)"
      ],
      "metadata": {
        "id": "H70jl9esHUqs"
      },
      "execution_count": null,
      "outputs": []
    },
    {
      "cell_type": "code",
      "source": [
        "train_all.isnull().any()"
      ],
      "metadata": {
        "id": "w0N9mBz6HW7c"
      },
      "execution_count": null,
      "outputs": []
    },
    {
      "cell_type": "code",
      "source": [
        "train_all.info()"
      ],
      "metadata": {
        "id": "01Aix-BGHY_-"
      },
      "execution_count": null,
      "outputs": []
    },
    {
      "cell_type": "code",
      "source": [
        "# Filling missing values\n",
        "def filling_missing_values(data):\n",
        "  data['source_system_tab'].fillna('no_system_tab', inplace=True)\n",
        "  data['source_screen_name'].fillna('no_screen_name', inplace=True)\n",
        "  data['source_type'].fillna('np_source_type', inplace=True)\n",
        "  data['bd'].fillna(0, inplace=True)\n",
        "  data['gender'].fillna('gender_missing', inplace=True)\n",
        "  data['song_length'].fillna(0, inplace=True)\n",
        "  data['genre_ids'].fillna(0, inplace=True)\n",
        "  data['lyricist'].fillna('no_lyricist', inplace=True)\n",
        "  data['artist_name'].fillna('no_artist_name', inplace=True)\n",
        "  data['composer'].fillna('no_composer', inplace=True)\n",
        "  data['language'].fillna('no_language', inplace=True)\n",
        "  data['name'].fillna('no_name', inplace=True)\n",
        "  return data\n",
        "\n",
        "train_all = filling_missing_values(train_all)\n",
        "val_all = filling_missing_values(val_all)\n",
        "test_all = filling_missing_values(test_all)"
      ],
      "metadata": {
        "id": "2pE_BsbuHcrM"
      },
      "execution_count": null,
      "outputs": []
    },
    {
      "cell_type": "code",
      "source": [
        "def generate_genre_ids(data):\n",
        "  '''Function to sepearate each genre_id and count total number of genre_ids'''\n",
        "  genre_ids_matrix = np.zeros((data.shape[0], 4))\n",
        "\n",
        "  for i in range(data.shape[0]):\n",
        "    ids = str(data['genre_ids'].values[i]).split('|')\n",
        "    if len(ids) > 2:\n",
        "        genre_ids_matrix[i, 0] = (ids[0])\n",
        "        genre_ids_matrix[i, 1] = (ids[1])\n",
        "        genre_ids_matrix[i, 2] = (ids[2])\n",
        "    elif len(ids) > 1:\n",
        "        genre_ids_matrix[i, 0] = (ids[0])\n",
        "        genre_ids_matrix[i, 1] = (ids[1])\n",
        "    elif len(ids) == 1:\n",
        "        genre_ids_matrix[i, 0] = (ids[0])\n",
        "    genre_ids_matrix[i, 3] = len(ids)\n",
        "\n",
        "  data['first_genre_id'] = genre_ids_matrix[:, 0] # keeps first genre_id\n",
        "  data['second_genre_id'] = genre_ids_matrix[:, 1] # keeps second genre_id\n",
        "  data['third_genre_id'] = genre_ids_matrix[:, 2] # keeps third genre_id\n",
        "  data['genre_ids_count'] = genre_ids_matrix[:, 3] # keeps count of genre_ids\n",
        "  return data\n",
        "train_all = generate_genre_ids(train_all)\n",
        "val_all = generate_genre_ids(val_all)\n",
        "test_all = generate_genre_ids(test_all)"
      ],
      "metadata": {
        "id": "GLlNO6A7Hgst"
      },
      "execution_count": null,
      "outputs": []
    },
    {
      "cell_type": "code",
      "source": [
        "train_all = train_all.drop(['composer', 'lyricist'], axis=1)\n",
        "val_all = val_all.drop(['composer', 'lyricist'], axis=1)\n",
        "test_all = test_all.drop(['composer', 'lyricist'], axis=1)"
      ],
      "metadata": {
        "id": "_4sxdfe3HjeV"
      },
      "execution_count": null,
      "outputs": []
    },
    {
      "cell_type": "code",
      "source": [
        "def calculate_is_featured(data):\n",
        "  '''Function to check 'feat' in artist field.'''\n",
        "  data['is_featured'] = data['artist_name'].apply(lambda x: 1 if ' feat' in str(x) else 0).astype(np.int8)\n",
        "  return data"
      ],
      "metadata": {
        "id": "uuHmxiOuHl1r"
      },
      "execution_count": null,
      "outputs": []
    },
    {
      "cell_type": "code",
      "source": [
        "train_all = calculate_is_featured(train_all)\n",
        "val_all = calculate_is_featured(val_all)\n",
        "test_all = calculate_is_featured(test_all)"
      ],
      "metadata": {
        "id": "YwH56zQfHoJm"
      },
      "execution_count": null,
      "outputs": []
    },
    {
      "cell_type": "code",
      "source": [
        "def artist_count(x):\n",
        "  '''Function to count total number of artists for each song'''\n",
        "  return x.count('and') + x.count(',') + x.count(' feat') + x.count('&') + 1\n",
        "\n",
        "def get_first_artist(x):\n",
        "  '''Function to extract first artist name from more than one artists'''\n",
        "  if x.count('and') > 0:\n",
        "    x = x.split('and')[0]\n",
        "  if x.count(',') > 0:\n",
        "    x = x.split(',')[0]\n",
        "  if x.count(' feat') > 0:\n",
        "    x = x.split(' feat')[0]\n",
        "  if x.count('&') > 0:\n",
        "    x = x.split('&')[0]\n",
        "  return x.strip()"
      ],
      "metadata": {
        "id": "X1JmcJNjHqTN"
      },
      "execution_count": null,
      "outputs": []
    },
    {
      "cell_type": "code",
      "source": [
        "def calculate_artist_features(data):\n",
        "  '''Function to execute above both functions'''\n",
        "  # get artist count \n",
        "  data['artist_count'] = data['artist_name'].apply(artist_count).astype(np.int8)\n",
        "  # get first artist name\n",
        "  data['first_artist_name'] = data['artist_name'].apply(get_first_artist)\n",
        "  return data"
      ],
      "metadata": {
        "id": "g2cO4VX8Hu1r"
      },
      "execution_count": null,
      "outputs": []
    },
    {
      "cell_type": "code",
      "source": [
        "train_all = calculate_artist_features(train_all)\n",
        "val_all = calculate_artist_features(val_all)\n",
        "test_all = calculate_artist_features(test_all)"
      ],
      "metadata": {
        "id": "EJYqc4RxHwuE"
      },
      "execution_count": null,
      "outputs": []
    },
    {
      "cell_type": "code",
      "source": [
        "def song_lang_boolean(x):\n",
        "  '''Function to add language boolean feature'''\n",
        "  if 17.0 == str(x) or 45.0 == str(x):\n",
        "    return 1\n",
        "  else:\n",
        "    return 0\n",
        "    \n",
        "mean_song_length = np.mean(train_all['song_length'])\n",
        "def smaller_song(x):\n",
        "  '''Function to add song_size boolean feature'''\n",
        "  if x < mean_song_length:\n",
        "    return 1\n",
        "  else:\n",
        "    return 0"
      ],
      "metadata": {
        "id": "tG5eRuZWHziu"
      },
      "execution_count": null,
      "outputs": []
    },
    {
      "cell_type": "code",
      "source": [
        "def calculate_language_features(data):\n",
        "  data['song_lang_boolean'] = data['language'].apply(song_lang_boolean).astype(np.int8)\n",
        "  data['song_size_boolean'] = data['song_length'].apply(smaller_song).astype(np.int8)\n",
        "  return data"
      ],
      "metadata": {
        "id": "ADpvves1H1SF"
      },
      "execution_count": null,
      "outputs": []
    },
    {
      "cell_type": "code",
      "source": [
        "train_all = calculate_language_features(train_all)\n",
        "val_all = calculate_language_features(val_all)\n",
        "test_all = calculate_language_features(test_all)"
      ],
      "metadata": {
        "id": "0QQgib-sH26l"
      },
      "execution_count": null,
      "outputs": []
    },
    {
      "cell_type": "code",
      "source": [
        "def calcualte_songs_features(data):\n",
        "  '''Function to extract features from isrc.'''\n",
        "  isrc = data['isrc']\n",
        "  data['country_code'] = isrc.str.slice(0, 2)\n",
        "  data['registration_code'] = isrc.str.slice(2, 5)\n",
        "  data['song_year'] = isrc.str.slice(5, 7).astype(float)\n",
        "  data['song_year'] = data['song_year'].apply(lambda x: 2000+x if x < 18 else 1900+x)\n",
        "  data['isrc_missing'] = (data['country_code'] == 0) * 1.0\n",
        "  return data"
      ],
      "metadata": {
        "id": "f4qn1jwgH5F7"
      },
      "execution_count": null,
      "outputs": []
    },
    {
      "cell_type": "code",
      "source": [
        "train_all = calcualte_songs_features(train_all)\n",
        "val_all = calcualte_songs_features(val_all)\n",
        "test_all = calcualte_songs_features(test_all)"
      ],
      "metadata": {
        "id": "KkQC7jjqH7At"
      },
      "execution_count": null,
      "outputs": []
    },
    {
      "cell_type": "code",
      "source": [
        "def filling_missing_isrc_values(data):\n",
        "  '''Function to fill missing isrc values'''\n",
        "  data['isrc'].fillna('no_isrc', inplace=True)\n",
        "  data['country_code'].fillna('no_country_code', inplace=True)\n",
        "  data['registration_code'].fillna('no_registration_code', inplace=True)\n",
        "  data['song_year'].fillna('no_song_year', inplace=True)\n",
        "  return data\n",
        "\n",
        "train_all = filling_missing_isrc_values(train_all)\n",
        "val_all = filling_missing_isrc_values(val_all)\n",
        "test_all = filling_missing_isrc_values(test_all)"
      ],
      "metadata": {
        "id": "iGyiZ8tiH9sd"
      },
      "execution_count": null,
      "outputs": []
    },
    {
      "cell_type": "code",
      "source": [
        "val_all.columns"
      ],
      "metadata": {
        "id": "y1ZkPaj4H_Jk"
      },
      "execution_count": null,
      "outputs": []
    },
    {
      "cell_type": "code",
      "source": [
        "def calculate_groupby_features(data):\n",
        "  '''Function to calculate group by features on dataframe '''\n",
        "  # song count for each user\n",
        "  member_song_count = data.groupby('msno').count()['song_id'].to_dict()\n",
        "  data['member_song_count'] = data['msno'].apply(lambda x: member_song_count[x])\n",
        "\n",
        "  # song count for each artist\n",
        "  artist_song_count = data.groupby('first_artist_name').count()['song_id'].to_dict()\n",
        "  data['artist_song_count'] = data['first_artist_name'].apply(lambda x: artist_song_count[x])\n",
        "\n",
        "  # song count for each genre_id\n",
        "  first_genre_id_song_count = data.groupby('first_genre_id').count()['song_id'].to_dict()\n",
        "  data['genre_song_count'] = data['first_genre_id'].apply(lambda x: first_genre_id_song_count[x])\n",
        "\n",
        "  # song count for each lanugage\n",
        "  lang_song_count = data.groupby('language').count()['song_id'].to_dict()\n",
        "  data['lang_song_count'] = data['language'].apply(lambda x: lang_song_count[x])\n",
        "\n",
        "  # user count for each song\n",
        "  song_member_count = data.groupby('song_id').count()['msno'].to_dict()\n",
        "  data['song_member_count'] = data['song_id'].apply(lambda x: song_member_count[x])\n",
        "\n",
        "  # We can add group by  wrt 'age'\n",
        "  age_song_count = data.groupby('bd').count()['song_id'].to_dict()\n",
        "  data['age_song_count'] = data['bd'].apply(lambda x: age_song_count[x])\n",
        " \n",
        "  return data\n",
        "train_all = calculate_groupby_features(train_all)\n",
        "val_all = calculate_groupby_features(val_all)\n",
        "test_all = calculate_groupby_features(test_all)\n",
        "save_path = '/content/drive/My Drive/CS-1/'\n",
        "\n",
        "train_all.to_csv(save_path + 'train_all_new.csv', index=False)\n",
        "val_all.to_csv(save_path + 'val_all_new.csv', index=False)\n",
        "test_all.to_csv(save_path + 'test_all_new.csv', index=False)"
      ],
      "metadata": {
        "id": "EooZ-KurIENi"
      },
      "execution_count": null,
      "outputs": []
    }
  ]
}